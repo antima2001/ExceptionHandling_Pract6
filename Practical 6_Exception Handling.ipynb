{
 "cells": [
  {
   "cell_type": "code",
   "execution_count": null,
   "id": "2fed28ff",
   "metadata": {},
   "outputs": [],
   "source": [
    "Program based on exception handling"
   ]
  },
  {
   "cell_type": "code",
   "execution_count": null,
   "id": "633ae86f",
   "metadata": {},
   "outputs": [],
   "source": [
    "1. Handling Multiple Exceptions With A Single Except"
   ]
  },
  {
   "cell_type": "code",
   "execution_count": 2,
   "id": "98d10a3f",
   "metadata": {},
   "outputs": [
    {
     "name": "stdout",
     "output_type": "stream",
     "text": [
      "division by zero\n"
     ]
    }
   ],
   "source": [
    "def get_fraction_antima(Value, idx):\n",
    "    \n",
    "    arr = [4,5,2,0]  # a list of numbers\n",
    "    idx_value = arr[idx] #if idx is > arr length, IndexError will be raised\n",
    "    value/idx_value     #if idx_value == 0, ZeroDivisorError will be raised\n",
    "    \n",
    "if __name__=='__main__':\n",
    "        #set 'value' and 'idx'\n",
    "        value = 54\n",
    "        idx = 3\n",
    "        #call function in a try-except statement.\n",
    "        try:\n",
    "            result = get_fraction_antima(value, idx)\n",
    "            print(\"Fraction is\", result)\n",
    "        except (IndexError, ZeroDivisionError) as ex:\n",
    "            print(ex)\n",
    "            "
   ]
  },
  {
   "cell_type": "code",
   "execution_count": null,
   "id": "9b842819",
   "metadata": {},
   "outputs": [],
   "source": [
    "2. Handling Multiple Exceptions With Multiple Excepts"
   ]
  },
  {
   "cell_type": "code",
   "execution_count": 3,
   "id": "d18b4b43",
   "metadata": {},
   "outputs": [
    {
     "name": "stdout",
     "output_type": "stream",
     "text": [
      "idx of 8 is out of range\n"
     ]
    }
   ],
   "source": [
    "def get_fraction_antima(value, idx):\n",
    "    \n",
    "    arr = [4,5,2,0]    #a list of numbers\n",
    "    idx_value = arr[idx]  #if idx is > arr length, IndexError will be raised\n",
    "    value/idx_value   #is idx_value ==0, ZeroDivisionError will be raised\n",
    "    \n",
    "if __name__=='__main__':\n",
    "        #set 'value' and 'idx'\n",
    "    value = 54\n",
    "    idx = 8\n",
    "        #call function in a try-excepts statement.\n",
    "    try:\n",
    "        result = get_fraction_antima(value, idx)\n",
    "        print(\"Fraction is\" ,result)\n",
    "    except IndexError:\n",
    "        print(\"idx of {} is out of range\".format(idx))\n",
    "    except ZeroDivisionError:\n",
    "        print(\"arr[{]}] is 0. Hence, can't divide by zero\".format(idx))\n",
    "    except Exception as ex:\n",
    "        print(ex)\n",
    "        print(\"Not sure what happened so not safe to continue, \\ app will be interrupted\")\n",
    "        raise ex\n",
    "            "
   ]
  },
  {
   "cell_type": "code",
   "execution_count": null,
   "id": "27ce9d1b",
   "metadata": {},
   "outputs": [],
   "source": []
  },
  {
   "cell_type": "code",
   "execution_count": null,
   "id": "6d59f5e8",
   "metadata": {},
   "outputs": [],
   "source": []
  }
 ],
 "metadata": {
  "kernelspec": {
   "display_name": "Python 3 (ipykernel)",
   "language": "python",
   "name": "python3"
  },
  "language_info": {
   "codemirror_mode": {
    "name": "ipython",
    "version": 3
   },
   "file_extension": ".py",
   "mimetype": "text/x-python",
   "name": "python",
   "nbconvert_exporter": "python",
   "pygments_lexer": "ipython3",
   "version": "3.9.12"
  }
 },
 "nbformat": 4,
 "nbformat_minor": 5
}
